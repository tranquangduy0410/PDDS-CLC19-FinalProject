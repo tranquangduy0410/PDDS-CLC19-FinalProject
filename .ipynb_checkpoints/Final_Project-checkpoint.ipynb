{
 "cells": [
  {
   "cell_type": "code",
   "execution_count": 1,
   "id": "ce7b0b0c",
   "metadata": {},
   "outputs": [],
   "source": [
    "import numpy as np\n",
    "import pandas as pd # Dùng để đọc và hiển thị file csv/tsv\n",
    "import matplotlib.pyplot as plt\n",
    "import plotly\n",
    "import seaborn as sns"
   ]
  },
  {
   "cell_type": "markdown",
   "id": "770f230b",
   "metadata": {},
   "source": [
    "## Phần 1: Thu thập dữ liệu"
   ]
  },
  {
   "cell_type": "markdown",
   "id": "f0a5eaaa",
   "metadata": {},
   "source": [
    "Thu thập dữ liệu tập vgsale.csv từ kaggle<br>Link url: https://www.kaggle.com/mehulhyd/vgsales"
   ]
  },
  {
   "cell_type": "markdown",
   "id": "1fb54479",
   "metadata": {},
   "source": [
    "## Phần 2: Khám phá dữ liệu (đủ để có thể xác định câu hỏi)"
   ]
  },
  {
   "cell_type": "code",
   "execution_count": 2,
   "id": "2839d46f",
   "metadata": {},
   "outputs": [
    {
     "data": {
      "text/html": [
       "<div>\n",
       "<style scoped>\n",
       "    .dataframe tbody tr th:only-of-type {\n",
       "        vertical-align: middle;\n",
       "    }\n",
       "\n",
       "    .dataframe tbody tr th {\n",
       "        vertical-align: top;\n",
       "    }\n",
       "\n",
       "    .dataframe thead th {\n",
       "        text-align: right;\n",
       "    }\n",
       "</style>\n",
       "<table border=\"1\" class=\"dataframe\">\n",
       "  <thead>\n",
       "    <tr style=\"text-align: right;\">\n",
       "      <th></th>\n",
       "      <th>Rank</th>\n",
       "      <th>Name</th>\n",
       "      <th>Platform</th>\n",
       "      <th>Year</th>\n",
       "      <th>Genre</th>\n",
       "      <th>Publisher</th>\n",
       "      <th>NA_Sales</th>\n",
       "      <th>EU_Sales</th>\n",
       "      <th>JP_Sales</th>\n",
       "      <th>Other_Sales</th>\n",
       "      <th>Global_Sales</th>\n",
       "    </tr>\n",
       "  </thead>\n",
       "  <tbody>\n",
       "    <tr>\n",
       "      <th>0</th>\n",
       "      <td>1</td>\n",
       "      <td>Wii Sports</td>\n",
       "      <td>Wii</td>\n",
       "      <td>2006.0</td>\n",
       "      <td>Sports</td>\n",
       "      <td>Nintendo</td>\n",
       "      <td>41.49</td>\n",
       "      <td>29.02</td>\n",
       "      <td>3.77</td>\n",
       "      <td>8.46</td>\n",
       "      <td>82.74</td>\n",
       "    </tr>\n",
       "    <tr>\n",
       "      <th>1</th>\n",
       "      <td>2</td>\n",
       "      <td>Super Mario Bros.</td>\n",
       "      <td>NES</td>\n",
       "      <td>1985.0</td>\n",
       "      <td>Platform</td>\n",
       "      <td>Nintendo</td>\n",
       "      <td>29.08</td>\n",
       "      <td>3.58</td>\n",
       "      <td>6.81</td>\n",
       "      <td>0.77</td>\n",
       "      <td>40.24</td>\n",
       "    </tr>\n",
       "    <tr>\n",
       "      <th>2</th>\n",
       "      <td>3</td>\n",
       "      <td>Mario Kart Wii</td>\n",
       "      <td>Wii</td>\n",
       "      <td>2008.0</td>\n",
       "      <td>Racing</td>\n",
       "      <td>Nintendo</td>\n",
       "      <td>15.85</td>\n",
       "      <td>12.88</td>\n",
       "      <td>3.79</td>\n",
       "      <td>3.31</td>\n",
       "      <td>35.82</td>\n",
       "    </tr>\n",
       "    <tr>\n",
       "      <th>3</th>\n",
       "      <td>4</td>\n",
       "      <td>Wii Sports Resort</td>\n",
       "      <td>Wii</td>\n",
       "      <td>2009.0</td>\n",
       "      <td>Sports</td>\n",
       "      <td>Nintendo</td>\n",
       "      <td>15.75</td>\n",
       "      <td>11.01</td>\n",
       "      <td>3.28</td>\n",
       "      <td>2.96</td>\n",
       "      <td>33.00</td>\n",
       "    </tr>\n",
       "    <tr>\n",
       "      <th>4</th>\n",
       "      <td>5</td>\n",
       "      <td>Pokemon Red/Pokemon Blue</td>\n",
       "      <td>GB</td>\n",
       "      <td>1996.0</td>\n",
       "      <td>Role-Playing</td>\n",
       "      <td>Nintendo</td>\n",
       "      <td>11.27</td>\n",
       "      <td>8.89</td>\n",
       "      <td>10.22</td>\n",
       "      <td>1.00</td>\n",
       "      <td>31.37</td>\n",
       "    </tr>\n",
       "  </tbody>\n",
       "</table>\n",
       "</div>"
      ],
      "text/plain": [
       "   Rank                      Name Platform    Year         Genre Publisher  \\\n",
       "0     1                Wii Sports      Wii  2006.0        Sports  Nintendo   \n",
       "1     2         Super Mario Bros.      NES  1985.0      Platform  Nintendo   \n",
       "2     3            Mario Kart Wii      Wii  2008.0        Racing  Nintendo   \n",
       "3     4         Wii Sports Resort      Wii  2009.0        Sports  Nintendo   \n",
       "4     5  Pokemon Red/Pokemon Blue       GB  1996.0  Role-Playing  Nintendo   \n",
       "\n",
       "   NA_Sales  EU_Sales  JP_Sales  Other_Sales  Global_Sales  \n",
       "0     41.49     29.02      3.77         8.46         82.74  \n",
       "1     29.08      3.58      6.81         0.77         40.24  \n",
       "2     15.85     12.88      3.79         3.31         35.82  \n",
       "3     15.75     11.01      3.28         2.96         33.00  \n",
       "4     11.27      8.89     10.22         1.00         31.37  "
      ]
     },
     "execution_count": 2,
     "metadata": {},
     "output_type": "execute_result"
    }
   ],
   "source": [
    "game_df = pd.read_csv('vgsales.csv')\n",
    "game_df.head()"
   ]
  },
  {
   "cell_type": "code",
   "execution_count": 3,
   "id": "911d528b",
   "metadata": {},
   "outputs": [
    {
     "name": "stdout",
     "output_type": "stream",
     "text": [
      "<class 'pandas.core.frame.DataFrame'>\n",
      "RangeIndex: 16598 entries, 0 to 16597\n",
      "Data columns (total 11 columns):\n",
      " #   Column        Non-Null Count  Dtype  \n",
      "---  ------        --------------  -----  \n",
      " 0   Rank          16598 non-null  int64  \n",
      " 1   Name          16598 non-null  object \n",
      " 2   Platform      16598 non-null  object \n",
      " 3   Year          16327 non-null  float64\n",
      " 4   Genre         16598 non-null  object \n",
      " 5   Publisher     16540 non-null  object \n",
      " 6   NA_Sales      16598 non-null  float64\n",
      " 7   EU_Sales      16598 non-null  float64\n",
      " 8   JP_Sales      16598 non-null  float64\n",
      " 9   Other_Sales   16598 non-null  float64\n",
      " 10  Global_Sales  16598 non-null  float64\n",
      "dtypes: float64(6), int64(1), object(4)\n",
      "memory usage: 1.4+ MB\n"
     ]
    }
   ],
   "source": [
    "game_df.info()"
   ]
  },
  {
   "cell_type": "markdown",
   "id": "28c6efc9",
   "metadata": {},
   "source": [
    "### a/ Dữ liệu có bao nhiêu dòng và bao nhiêu cột?"
   ]
  },
  {
   "cell_type": "code",
   "execution_count": 4,
   "id": "4000c5ba",
   "metadata": {},
   "outputs": [
    {
     "name": "stdout",
     "output_type": "stream",
     "text": [
      "Row:  16598 - Col:  11\n"
     ]
    }
   ],
   "source": [
    "num_rows = len(game_df.index)\n",
    "num_cols = len(game_df.columns)\n",
    "print('Row: ', num_rows, '- Col: ', num_cols)"
   ]
  },
  {
   "cell_type": "markdown",
   "id": "945cc8b7",
   "metadata": {},
   "source": [
    "### b/ Mỗi dòng có ý nghĩa gì? Có vấn đề các dòng có ý nghĩa khác nhau không?"
   ]
  },
  {
   "cell_type": "markdown",
   "id": "6a257465",
   "metadata": {},
   "source": [
    "Quan sát sơ bộ dữ liệu ta thấy mỗi dòng chứa thông tin của một game được sắp xếp theo hạng doanh thu, và có vẻ không có vấn đề các dòng có ý nghĩa khác nhau."
   ]
  },
  {
   "cell_type": "markdown",
   "id": "741f4b97",
   "metadata": {},
   "source": [
    "### c/ Dữ liệu có các dòng bị lặp không?"
   ]
  },
  {
   "cell_type": "code",
   "execution_count": 5,
   "id": "d3e4bcbe",
   "metadata": {},
   "outputs": [
    {
     "data": {
      "text/plain": [
       "0"
      ]
     },
     "execution_count": 5,
     "metadata": {},
     "output_type": "execute_result"
    }
   ],
   "source": [
    "game_df.index.duplicated().sum()"
   ]
  },
  {
   "cell_type": "markdown",
   "id": "28870deb",
   "metadata": {},
   "source": [
    "### d/ Mỗi cột có ý nghĩa gì?"
   ]
  },
  {
   "cell_type": "markdown",
   "id": "0de75b1f",
   "metadata": {},
   "source": [
    "Mô tả ý nghĩa về các cột trong file \"vgsale.csv\":\n",
    "- **Rank**: xếp hạng của các game\n",
    "- **Name**: tên game\n",
    "- **Platform**: tên hệ máy mà game hướng tới\n",
    "- **Year**: năm phát hành\n",
    "- **Genre**: thể loại game\n",
    "- **Publisher**: nhà sản xuất game\n",
    "- **NA_Sales**: Số lượng bản bán ra của khu vực Bắc Mỹ\n",
    "- **EU_Sales**: Số lượng bản bán ra của khu vực Châu Âu\n",
    "- **JP_Sales**: Số lượng bản bán ra của khu vực Nhật Bổn\n",
    "- **Other_Sales**: Số lượng bản bán ra của các khu vực khác\n",
    "- **Global_Sales**: Số lượng bản bán ra của toàn thế giới."
   ]
  },
  {
   "cell_type": "markdown",
   "id": "40b68ae7",
   "metadata": {},
   "source": [
    "### e/ Mỗi cột hiện đang có kiểu dữ liệu gì? Có cột nào có kiểu dữ liệu chưa phù hợp để có thể xử lý tiếp không?"
   ]
  },
  {
   "cell_type": "code",
   "execution_count": 6,
   "id": "f76d9a98",
   "metadata": {},
   "outputs": [
    {
     "data": {
      "text/plain": [
       "Rank              int64\n",
       "Name             object\n",
       "Platform         object\n",
       "Year            float64\n",
       "Genre            object\n",
       "Publisher        object\n",
       "NA_Sales        float64\n",
       "EU_Sales        float64\n",
       "JP_Sales        float64\n",
       "Other_Sales     float64\n",
       "Global_Sales    float64\n",
       "dtype: object"
      ]
     },
     "execution_count": 6,
     "metadata": {},
     "output_type": "execute_result"
    }
   ],
   "source": [
    "col_dtypes = pd.Series(game_df.dtypes.values, index=game_df.dtypes.axes)\n",
    "col_dtypes"
   ]
  },
  {
   "cell_type": "markdown",
   "id": "9a7e5b0b",
   "metadata": {},
   "source": [
    "**Cột có dtype là object nghĩa là sao?**"
   ]
  },
  {
   "cell_type": "code",
   "execution_count": 7,
   "id": "7d4e0b4f",
   "metadata": {},
   "outputs": [
    {
     "name": "stdout",
     "output_type": "stream",
     "text": [
      "Name:  {<class 'str'>}\n",
      "Genre:  {<class 'str'>}\n",
      "Publisher:  {<class 'str'>, <class 'float'>}\n"
     ]
    }
   ],
   "source": [
    "def open_object_dtype(s, name):\n",
    "    dtypes = set()\n",
    "    \n",
    "    # YOUR CODE HERE\n",
    "    #raise NotImplementedError()\n",
    "    if s.dtype == object:\n",
    "        dtypes = s.apply(lambda x: type(x))\n",
    "    \n",
    "    print(name + ': ', set(dtypes))\n",
    "    \n",
    "open_object_dtype(game_df['Name'], 'Name')\n",
    "open_object_dtype(game_df['Genre'], 'Genre')\n",
    "open_object_dtype(game_df['Publisher'], 'Publisher')"
   ]
  },
  {
   "cell_type": "markdown",
   "id": "371eb6a4",
   "metadata": {},
   "source": [
    "Như vậy các cột object đa số đều là chuỗi và đều hợp với lại chức năng của nó chỉ riêng cột publisher có kèm số float vào vậy điều đầu tiên nghĩ tới là rất có thể cột này bị thiếu giá trị dữ liệu"
   ]
  },
  {
   "cell_type": "markdown",
   "id": "1c2945b1",
   "metadata": {},
   "source": [
    "**Kiểm tra giá trị thiếu của các cột**"
   ]
  },
  {
   "cell_type": "code",
   "execution_count": 8,
   "id": "064cf29d",
   "metadata": {},
   "outputs": [
    {
     "data": {
      "text/plain": [
       "Rank              0\n",
       "Name              0\n",
       "Platform          0\n",
       "Year            271\n",
       "Genre             0\n",
       "Publisher        58\n",
       "NA_Sales          0\n",
       "EU_Sales          0\n",
       "JP_Sales          0\n",
       "Other_Sales       0\n",
       "Global_Sales      0\n",
       "dtype: int64"
      ]
     },
     "execution_count": 8,
     "metadata": {},
     "output_type": "execute_result"
    }
   ],
   "source": [
    "game_df.isna().sum()"
   ]
  },
  {
   "cell_type": "markdown",
   "id": "865e299d",
   "metadata": {},
   "source": [
    "Quả đúng như vậy và kèm theo ở trên thì các vấn đề cần tiền xử lý đó là:<br>+ Bổ sung các giá trị còn thiếu.<br>+ Đổi kiểu cột year sang int<br><br>Đối với việc xử lý giá trị thiếu thì:<br>+ Cột Year: dựa theo cột Platform thay năm xuất hiện nhiều nhất đối với platform đó<br>+ Cột Publisher: dựa theo cột Genre để điền<br><br>**Tiền xử lý dữ liệu**"
   ]
  },
  {
   "cell_type": "code",
   "execution_count": 9,
   "id": "a41b36cf",
   "metadata": {},
   "outputs": [
    {
     "name": "stderr",
     "output_type": "stream",
     "text": [
      "/home/katakuri_v/miniconda3/envs/min_ds-env/lib/python3.8/site-packages/pandas/core/indexing.py:1720: SettingWithCopyWarning: \n",
      "A value is trying to be set on a copy of a slice from a DataFrame.\n",
      "Try using .loc[row_indexer,col_indexer] = value instead\n",
      "\n",
      "See the caveats in the documentation: https://pandas.pydata.org/pandas-docs/stable/user_guide/indexing.html#returning-a-view-versus-a-copy\n",
      "  self._setitem_single_column(loc, value, pi)\n",
      "/home/katakuri_v/miniconda3/envs/min_ds-env/lib/python3.8/site-packages/pandas/core/indexing.py:1720: SettingWithCopyWarning: \n",
      "A value is trying to be set on a copy of a slice from a DataFrame.\n",
      "Try using .loc[row_indexer,col_indexer] = value instead\n",
      "\n",
      "See the caveats in the documentation: https://pandas.pydata.org/pandas-docs/stable/user_guide/indexing.html#returning-a-view-versus-a-copy\n",
      "  self._setitem_single_column(loc, value, pi)\n"
     ]
    }
   ],
   "source": [
    "def fill_missing(key1, key2):\n",
    "    missing_df = game_df[game_df[key1].isna()]\n",
    "    missing = list(set(game_df[game_df[key1].isna()][key2]))\n",
    "    \n",
    "    temp = game_df[[key1, key2]].dropna().value_counts().reset_index().rename(columns={0 : 'Counts'})\n",
    "    \n",
    "    filling = list()\n",
    "\n",
    "    for p in missing:\n",
    "        filling.append(temp[temp[key2] == p].reset_index()[key1][0])\n",
    "        \n",
    "    for i in range(len(missing)):\n",
    "        missing_df.loc[missing_df[key2] == missing[i], key1] = filling[i]\n",
    "\n",
    "    game_df.loc[missing_df.index] = missing_df.loc[missing_df.index]\n",
    "    \n",
    "fill_missing('Publisher', 'Genre')\n",
    "fill_missing('Year', 'Platform')"
   ]
  },
  {
   "cell_type": "code",
   "execution_count": 10,
   "id": "b5a52c7f",
   "metadata": {},
   "outputs": [
    {
     "data": {
      "text/html": [
       "<div>\n",
       "<style scoped>\n",
       "    .dataframe tbody tr th:only-of-type {\n",
       "        vertical-align: middle;\n",
       "    }\n",
       "\n",
       "    .dataframe tbody tr th {\n",
       "        vertical-align: top;\n",
       "    }\n",
       "\n",
       "    .dataframe thead th {\n",
       "        text-align: right;\n",
       "    }\n",
       "</style>\n",
       "<table border=\"1\" class=\"dataframe\">\n",
       "  <thead>\n",
       "    <tr style=\"text-align: right;\">\n",
       "      <th></th>\n",
       "      <th>Rank</th>\n",
       "      <th>Name</th>\n",
       "      <th>Platform</th>\n",
       "      <th>Year</th>\n",
       "      <th>Genre</th>\n",
       "      <th>Publisher</th>\n",
       "      <th>NA_Sales</th>\n",
       "      <th>EU_Sales</th>\n",
       "      <th>JP_Sales</th>\n",
       "      <th>Other_Sales</th>\n",
       "      <th>Global_Sales</th>\n",
       "    </tr>\n",
       "  </thead>\n",
       "  <tbody>\n",
       "    <tr>\n",
       "      <th>0</th>\n",
       "      <td>1</td>\n",
       "      <td>Wii Sports</td>\n",
       "      <td>Wii</td>\n",
       "      <td>2006</td>\n",
       "      <td>Sports</td>\n",
       "      <td>Nintendo</td>\n",
       "      <td>41.49</td>\n",
       "      <td>29.02</td>\n",
       "      <td>3.77</td>\n",
       "      <td>8.46</td>\n",
       "      <td>82.74</td>\n",
       "    </tr>\n",
       "    <tr>\n",
       "      <th>1</th>\n",
       "      <td>2</td>\n",
       "      <td>Super Mario Bros.</td>\n",
       "      <td>NES</td>\n",
       "      <td>1985</td>\n",
       "      <td>Platform</td>\n",
       "      <td>Nintendo</td>\n",
       "      <td>29.08</td>\n",
       "      <td>3.58</td>\n",
       "      <td>6.81</td>\n",
       "      <td>0.77</td>\n",
       "      <td>40.24</td>\n",
       "    </tr>\n",
       "    <tr>\n",
       "      <th>2</th>\n",
       "      <td>3</td>\n",
       "      <td>Mario Kart Wii</td>\n",
       "      <td>Wii</td>\n",
       "      <td>2008</td>\n",
       "      <td>Racing</td>\n",
       "      <td>Nintendo</td>\n",
       "      <td>15.85</td>\n",
       "      <td>12.88</td>\n",
       "      <td>3.79</td>\n",
       "      <td>3.31</td>\n",
       "      <td>35.82</td>\n",
       "    </tr>\n",
       "    <tr>\n",
       "      <th>3</th>\n",
       "      <td>4</td>\n",
       "      <td>Wii Sports Resort</td>\n",
       "      <td>Wii</td>\n",
       "      <td>2009</td>\n",
       "      <td>Sports</td>\n",
       "      <td>Nintendo</td>\n",
       "      <td>15.75</td>\n",
       "      <td>11.01</td>\n",
       "      <td>3.28</td>\n",
       "      <td>2.96</td>\n",
       "      <td>33.00</td>\n",
       "    </tr>\n",
       "    <tr>\n",
       "      <th>4</th>\n",
       "      <td>5</td>\n",
       "      <td>Pokemon Red/Pokemon Blue</td>\n",
       "      <td>GB</td>\n",
       "      <td>1996</td>\n",
       "      <td>Role-Playing</td>\n",
       "      <td>Nintendo</td>\n",
       "      <td>11.27</td>\n",
       "      <td>8.89</td>\n",
       "      <td>10.22</td>\n",
       "      <td>1.00</td>\n",
       "      <td>31.37</td>\n",
       "    </tr>\n",
       "  </tbody>\n",
       "</table>\n",
       "</div>"
      ],
      "text/plain": [
       "   Rank                      Name Platform  Year         Genre Publisher  \\\n",
       "0     1                Wii Sports      Wii  2006        Sports  Nintendo   \n",
       "1     2         Super Mario Bros.      NES  1985      Platform  Nintendo   \n",
       "2     3            Mario Kart Wii      Wii  2008        Racing  Nintendo   \n",
       "3     4         Wii Sports Resort      Wii  2009        Sports  Nintendo   \n",
       "4     5  Pokemon Red/Pokemon Blue       GB  1996  Role-Playing  Nintendo   \n",
       "\n",
       "   NA_Sales  EU_Sales  JP_Sales  Other_Sales  Global_Sales  \n",
       "0     41.49     29.02      3.77         8.46         82.74  \n",
       "1     29.08      3.58      6.81         0.77         40.24  \n",
       "2     15.85     12.88      3.79         3.31         35.82  \n",
       "3     15.75     11.01      3.28         2.96         33.00  \n",
       "4     11.27      8.89     10.22         1.00         31.37  "
      ]
     },
     "execution_count": 10,
     "metadata": {},
     "output_type": "execute_result"
    }
   ],
   "source": [
    "game_df['Year'] = game_df['Year'].astype(int)\n",
    "game_df.head()"
   ]
  },
  {
   "cell_type": "markdown",
   "id": "782b5702",
   "metadata": {},
   "source": [
    "**Phân loại dạng kiểu dữ liệu**"
   ]
  },
  {
   "cell_type": "code",
   "execution_count": 11,
   "id": "af4bd2da",
   "metadata": {},
   "outputs": [
    {
     "data": {
      "text/plain": [
       "Rank            16598\n",
       "Name            11493\n",
       "Platform           31\n",
       "Year               39\n",
       "Genre              12\n",
       "Publisher         578\n",
       "NA_Sales          409\n",
       "EU_Sales          305\n",
       "JP_Sales          244\n",
       "Other_Sales       157\n",
       "Global_Sales      623\n",
       "dtype: int64"
      ]
     },
     "execution_count": 11,
     "metadata": {},
     "output_type": "execute_result"
    }
   ],
   "source": [
    "game_df.nunique()"
   ]
  },
  {
   "cell_type": "markdown",
   "id": "98d86803",
   "metadata": {},
   "source": [
    "Nhìn vào số lượng giá trị khác nhau ở trên thì có thể dễ dàng nhận thấy được có 2 cột numeric là Year và Genre. Còn lại là category"
   ]
  },
  {
   "cell_type": "code",
   "execution_count": 12,
   "id": "d515119c",
   "metadata": {},
   "outputs": [
    {
     "data": {
      "text/html": [
       "<div>\n",
       "<style scoped>\n",
       "    .dataframe tbody tr th:only-of-type {\n",
       "        vertical-align: middle;\n",
       "    }\n",
       "\n",
       "    .dataframe tbody tr th {\n",
       "        vertical-align: top;\n",
       "    }\n",
       "\n",
       "    .dataframe thead th {\n",
       "        text-align: right;\n",
       "    }\n",
       "</style>\n",
       "<table border=\"1\" class=\"dataframe\">\n",
       "  <thead>\n",
       "    <tr style=\"text-align: right;\">\n",
       "      <th></th>\n",
       "      <th>Rank</th>\n",
       "      <th>Name</th>\n",
       "      <th>Year</th>\n",
       "      <th>Publisher</th>\n",
       "      <th>NA_Sales</th>\n",
       "      <th>EU_Sales</th>\n",
       "      <th>JP_Sales</th>\n",
       "      <th>Other_Sales</th>\n",
       "      <th>Global_Sales</th>\n",
       "    </tr>\n",
       "  </thead>\n",
       "  <tbody>\n",
       "    <tr>\n",
       "      <th>missing_ratio</th>\n",
       "      <td>0.0</td>\n",
       "      <td>0.0</td>\n",
       "      <td>0.0</td>\n",
       "      <td>0.0</td>\n",
       "      <td>0.00</td>\n",
       "      <td>0.00</td>\n",
       "      <td>0.00</td>\n",
       "      <td>0.00</td>\n",
       "      <td>0.00</td>\n",
       "    </tr>\n",
       "    <tr>\n",
       "      <th>min</th>\n",
       "      <td>1.0</td>\n",
       "      <td>NaN</td>\n",
       "      <td>1980.0</td>\n",
       "      <td>NaN</td>\n",
       "      <td>0.00</td>\n",
       "      <td>0.00</td>\n",
       "      <td>0.00</td>\n",
       "      <td>0.00</td>\n",
       "      <td>0.01</td>\n",
       "    </tr>\n",
       "    <tr>\n",
       "      <th>max</th>\n",
       "      <td>16600.0</td>\n",
       "      <td>NaN</td>\n",
       "      <td>2020.0</td>\n",
       "      <td>NaN</td>\n",
       "      <td>41.49</td>\n",
       "      <td>29.02</td>\n",
       "      <td>10.22</td>\n",
       "      <td>10.57</td>\n",
       "      <td>82.74</td>\n",
       "    </tr>\n",
       "  </tbody>\n",
       "</table>\n",
       "</div>"
      ],
      "text/plain": [
       "                  Rank  Name    Year  Publisher  NA_Sales  EU_Sales  JP_Sales  \\\n",
       "missing_ratio      0.0   0.0     0.0        0.0      0.00      0.00      0.00   \n",
       "min                1.0   NaN  1980.0        NaN      0.00      0.00      0.00   \n",
       "max            16600.0   NaN  2020.0        NaN     41.49     29.02     10.22   \n",
       "\n",
       "               Other_Sales  Global_Sales  \n",
       "missing_ratio         0.00          0.00  \n",
       "min                   0.00          0.01  \n",
       "max                  10.57         82.74  "
      ]
     },
     "execution_count": 12,
     "metadata": {},
     "output_type": "execute_result"
    }
   ],
   "source": [
    "nume_col = ['Rank', 'Name', 'Year', 'Publisher', 'NA_Sales', 'EU_Sales', 'JP_Sales', 'Other_Sales', 'Global_Sales']\n",
    "nume_col_profiles_df = pd.DataFrame(columns=nume_col, index=['missing_ratio', 'min', 'max'])\n",
    "nume_col_profiles_df.loc['missing_ratio'] = pd.to_numeric((len(game_df[nume_col]) - game_df[nume_col].count()) / len(game_df[nume_col]) * 100, downcast=\"float\")\n",
    "nume_col_profiles_df.loc['min'] = game_df[nume_col].min()\n",
    "nume_col_profiles_df.loc['max'] = game_df[nume_col].max()\n",
    "nume_col_profiles_df[nume_col[0:len(nume_col)]] = nume_col_profiles_df[nume_col[0:len(nume_col)]].apply(pd.to_numeric, errors='coerce')\n",
    "nume_col_profiles_df"
   ]
  },
  {
   "cell_type": "code",
   "execution_count": 16,
   "id": "0806f7ff",
   "metadata": {},
   "outputs": [
    {
     "data": {
      "text/html": [
       "<div>\n",
       "<style scoped>\n",
       "    .dataframe tbody tr th:only-of-type {\n",
       "        vertical-align: middle;\n",
       "    }\n",
       "\n",
       "    .dataframe tbody tr th {\n",
       "        vertical-align: top;\n",
       "    }\n",
       "\n",
       "    .dataframe thead th {\n",
       "        text-align: right;\n",
       "    }\n",
       "</style>\n",
       "<table border=\"1\" class=\"dataframe\">\n",
       "  <thead>\n",
       "    <tr style=\"text-align: right;\">\n",
       "      <th></th>\n",
       "      <th>Year</th>\n",
       "      <th>Genre</th>\n",
       "    </tr>\n",
       "  </thead>\n",
       "  <tbody>\n",
       "    <tr>\n",
       "      <th>missing_ratio</th>\n",
       "      <td>0.0</td>\n",
       "      <td>0.0</td>\n",
       "    </tr>\n",
       "    <tr>\n",
       "      <th>num_diff_vals</th>\n",
       "      <td>39</td>\n",
       "      <td>12</td>\n",
       "    </tr>\n",
       "    <tr>\n",
       "      <th>diff_vals</th>\n",
       "      <td>Int64Index([2009, 2008, 2010, 2011, 2007, 2006...</td>\n",
       "      <td>Index(['Action', 'Sports', 'Misc', 'Role-Playi...</td>\n",
       "    </tr>\n",
       "  </tbody>\n",
       "</table>\n",
       "</div>"
      ],
      "text/plain": [
       "                                                            Year  \\\n",
       "missing_ratio                                                0.0   \n",
       "num_diff_vals                                                 39   \n",
       "diff_vals      Int64Index([2009, 2008, 2010, 2011, 2007, 2006...   \n",
       "\n",
       "                                                           Genre  \n",
       "missing_ratio                                                0.0  \n",
       "num_diff_vals                                                 12  \n",
       "diff_vals      Index(['Action', 'Sports', 'Misc', 'Role-Playi...  "
      ]
     },
     "execution_count": 16,
     "metadata": {},
     "output_type": "execute_result"
    }
   ],
   "source": [
    "cate_col = ['Year', 'Genre']\n",
    "cate_col_profiles_df = pd.DataFrame(columns=cate_col, index=['missing_ratio', 'num_diff_vals', 'diff_vals'])\n",
    "cate_col_profiles_df.loc['missing_ratio'] = pd.to_numeric((len(game_df[cate_col]) - game_df[cate_col].count()) / len(game_df[cate_col]) * 100, downcast=\"float\")\n",
    "cate_col_profiles_df.loc['num_diff_vals'] = game_df[cate_col].apply(lambda x: x.value_counts().count())\n",
    "cate_col_profiles_df.loc['diff_vals'] = game_df[cate_col].apply(lambda x: x.value_counts().index)\n",
    "cate_col_profiles_df"
   ]
  },
  {
   "cell_type": "markdown",
   "id": "8f892117",
   "metadata": {},
   "source": [
    "## Phần 3: Đưa ra các câu hỏi cần trả lời"
   ]
  },
  {
   "cell_type": "markdown",
   "id": "a4b490b2",
   "metadata": {},
   "source": [
    "Sau khi đã khám phá dữ liệu và hiểu hơn về dữ liệu, em chia ra các vấn đề theo thời gian để trực quan hóa:\n",
    "- Tình hình quá khứ và hiện tại:\n",
    "<br> - Sự phát triển của các khu vực qua từng giai đoạn, nơi đâu là mảnh đất béo bở cho ngành công nghiệp game ?\n",
    "<br> - Xu hướng thể loại game hay platform thay đổi thế nào theo thời gian ?.\n",
    "<br> - Thể loại game nào được chơi hệ máy nào được yêu thích khi liên tục được phát triển trong suốt các giai đoạn?\n",
    "<br> - Tìm mối tương quan về sự lan rộng của game trên toàn thế giới với sự khởi đầu là Nhật\n",
    "- Xu hướng phát triển cho tương lai:"
   ]
  },
  {
   "cell_type": "markdown",
   "id": "58cd1e5f",
   "metadata": {},
   "source": [
    "## Phần 4: Trực quan hóa dữ liệu để trả lời các câu hỏi"
   ]
  },
  {
   "cell_type": "markdown",
   "id": "9dde0973",
   "metadata": {},
   "source": [
    "### 1.Sự phát triển của các khu vực qua từng giai đoạn,Nơi đâu là mảnh đất béo bở cho ngành công nghiệp game"
   ]
  },
  {
   "cell_type": "code",
   "execution_count": 3,
   "id": "eb6def9d",
   "metadata": {},
   "outputs": [
    {
     "ename": "NameError",
     "evalue": "name 'game_df' is not defined",
     "output_type": "error",
     "traceback": [
      "\u001b[0;31m---------------------------------------------------------------------------\u001b[0m",
      "\u001b[0;31mNameError\u001b[0m                                 Traceback (most recent call last)",
      "\u001b[0;32m/tmp/ipykernel_168/2223620489.py\u001b[0m in \u001b[0;36m<module>\u001b[0;34m\u001b[0m\n\u001b[0;32m----> 1\u001b[0;31m \u001b[0mgrowth\u001b[0m \u001b[0;34m=\u001b[0m \u001b[0mgame_df\u001b[0m\u001b[0;34m[\u001b[0m\u001b[0;34m[\u001b[0m\u001b[0;34m\"Year\"\u001b[0m\u001b[0;34m,\u001b[0m\u001b[0;34m\"NA_Sales\"\u001b[0m\u001b[0;34m,\u001b[0m\u001b[0;34m\"EU_Sales\"\u001b[0m\u001b[0;34m,\u001b[0m\u001b[0;34m\"JP_Sales\"\u001b[0m\u001b[0;34m,\u001b[0m\u001b[0;34m\"Other_Sales\"\u001b[0m\u001b[0;34m,\u001b[0m\u001b[0;34m\"Global_Sales\"\u001b[0m\u001b[0;34m]\u001b[0m\u001b[0;34m]\u001b[0m\u001b[0;34m.\u001b[0m\u001b[0mgroupby\u001b[0m\u001b[0;34m(\u001b[0m\u001b[0;34m\"Year\"\u001b[0m\u001b[0;34m)\u001b[0m\u001b[0;34m.\u001b[0m\u001b[0msum\u001b[0m\u001b[0;34m(\u001b[0m\u001b[0;34m)\u001b[0m\u001b[0;34m\u001b[0m\u001b[0;34m\u001b[0m\u001b[0m\n\u001b[0m\u001b[1;32m      2\u001b[0m \u001b[0msns\u001b[0m\u001b[0;34m.\u001b[0m\u001b[0mset\u001b[0m\u001b[0;34m(\u001b[0m\u001b[0mrc\u001b[0m\u001b[0;34m=\u001b[0m\u001b[0;34m{\u001b[0m\u001b[0;34m'figure.figsize'\u001b[0m\u001b[0;34m:\u001b[0m\u001b[0;34m(\u001b[0m\u001b[0;36m15\u001b[0m\u001b[0;34m,\u001b[0m\u001b[0;36m7\u001b[0m\u001b[0;34m)\u001b[0m\u001b[0;34m}\u001b[0m\u001b[0;34m)\u001b[0m\u001b[0;34m\u001b[0m\u001b[0;34m\u001b[0m\u001b[0m\n\u001b[1;32m      3\u001b[0m \u001b[0mplt\u001b[0m\u001b[0;34m.\u001b[0m\u001b[0mbar\u001b[0m\u001b[0;34m(\u001b[0m\u001b[0mgrowth\u001b[0m\u001b[0;34m.\u001b[0m\u001b[0mindex\u001b[0m\u001b[0;34m,\u001b[0m\u001b[0mgrowth\u001b[0m\u001b[0;34m[\u001b[0m\u001b[0;34m\"Global_Sales\"\u001b[0m\u001b[0;34m]\u001b[0m\u001b[0;34m,\u001b[0m\u001b[0mcolor\u001b[0m \u001b[0;34m=\u001b[0m \u001b[0;34m\"green\"\u001b[0m\u001b[0;34m,\u001b[0m\u001b[0mlabel\u001b[0m \u001b[0;34m=\u001b[0m \u001b[0;34m\"Global_Sales\"\u001b[0m\u001b[0;34m)\u001b[0m\u001b[0;34m\u001b[0m\u001b[0;34m\u001b[0m\u001b[0m\n\u001b[1;32m      4\u001b[0m \u001b[0mplt\u001b[0m\u001b[0;34m.\u001b[0m\u001b[0mtitle\u001b[0m\u001b[0;34m(\u001b[0m\u001b[0;34m\"Growth of game industry\"\u001b[0m\u001b[0;34m)\u001b[0m\u001b[0;34m;\u001b[0m\u001b[0;34m\u001b[0m\u001b[0;34m\u001b[0m\u001b[0m\n",
      "\u001b[0;31mNameError\u001b[0m: name 'game_df' is not defined"
     ]
    }
   ],
   "source": [
    "growth = game_df[[\"Year\",\"NA_Sales\",\"EU_Sales\",\"JP_Sales\",\"Other_Sales\",\"Global_Sales\"]].groupby(\"Year\").sum()\n",
    "sns.set(rc={'figure.figsize':(15,7)})\n",
    "plt.bar(growth.index,growth[\"Global_Sales\"],color = \"green\",label = \"Global_Sales\")\n",
    "plt.title(\"Growth of game industry\");"
   ]
  },
  {
   "cell_type": "markdown",
   "id": "842cc69f",
   "metadata": {},
   "source": [
    "-Game lần đầu tiên xuất hiện vào năm 1952"
   ]
  },
  {
   "cell_type": "code",
   "execution_count": 4,
   "id": "f76ec0d9",
   "metadata": {},
   "outputs": [
    {
     "ename": "NameError",
     "evalue": "name 'growth' is not defined",
     "output_type": "error",
     "traceback": [
      "\u001b[0;31m---------------------------------------------------------------------------\u001b[0m",
      "\u001b[0;31mNameError\u001b[0m                                 Traceback (most recent call last)",
      "\u001b[0;32m/tmp/ipykernel_168/817877196.py\u001b[0m in \u001b[0;36m<module>\u001b[0;34m\u001b[0m\n\u001b[0;32m----> 1\u001b[0;31m \u001b[0mplt\u001b[0m\u001b[0;34m.\u001b[0m\u001b[0mbar\u001b[0m\u001b[0;34m(\u001b[0m\u001b[0mgrowth\u001b[0m\u001b[0;34m.\u001b[0m\u001b[0mindex\u001b[0m\u001b[0;34m,\u001b[0m\u001b[0mgrowth\u001b[0m\u001b[0;34m[\u001b[0m\u001b[0;34m\"NA_Sales\"\u001b[0m\u001b[0;34m]\u001b[0m\u001b[0;34m,\u001b[0m\u001b[0mcolor\u001b[0m \u001b[0;34m=\u001b[0m \u001b[0;34m\"orange\"\u001b[0m\u001b[0;34m,\u001b[0m\u001b[0mlabel\u001b[0m \u001b[0;34m=\u001b[0m \u001b[0;34m\"NA_Sales\"\u001b[0m\u001b[0;34m)\u001b[0m\u001b[0;34m\u001b[0m\u001b[0;34m\u001b[0m\u001b[0m\n\u001b[0m\u001b[1;32m      2\u001b[0m \u001b[0mplt\u001b[0m\u001b[0;34m.\u001b[0m\u001b[0mbar\u001b[0m\u001b[0;34m(\u001b[0m\u001b[0mgrowth\u001b[0m\u001b[0;34m.\u001b[0m\u001b[0mindex\u001b[0m\u001b[0;34m,\u001b[0m\u001b[0mgrowth\u001b[0m\u001b[0;34m[\u001b[0m\u001b[0;34m\"EU_Sales\"\u001b[0m\u001b[0;34m]\u001b[0m\u001b[0;34m,\u001b[0m\u001b[0mcolor\u001b[0m \u001b[0;34m=\u001b[0m \u001b[0;34m\"red\"\u001b[0m\u001b[0;34m,\u001b[0m\u001b[0mlabel\u001b[0m \u001b[0;34m=\u001b[0m \u001b[0;34m\"EU_Sales\"\u001b[0m\u001b[0;34m)\u001b[0m\u001b[0;34m\u001b[0m\u001b[0;34m\u001b[0m\u001b[0m\n\u001b[1;32m      3\u001b[0m \u001b[0mplt\u001b[0m\u001b[0;34m.\u001b[0m\u001b[0mbar\u001b[0m\u001b[0;34m(\u001b[0m\u001b[0mgrowth\u001b[0m\u001b[0;34m.\u001b[0m\u001b[0mindex\u001b[0m\u001b[0;34m,\u001b[0m\u001b[0mgrowth\u001b[0m\u001b[0;34m[\u001b[0m\u001b[0;34m\"JP_Sales\"\u001b[0m\u001b[0;34m]\u001b[0m\u001b[0;34m,\u001b[0m\u001b[0mcolor\u001b[0m \u001b[0;34m=\u001b[0m \u001b[0;34m\"purple\"\u001b[0m\u001b[0;34m,\u001b[0m\u001b[0mlabel\u001b[0m \u001b[0;34m=\u001b[0m \u001b[0;34m\"JP_Sales\"\u001b[0m\u001b[0;34m)\u001b[0m\u001b[0;34m\u001b[0m\u001b[0;34m\u001b[0m\u001b[0m\n\u001b[1;32m      4\u001b[0m \u001b[0mplt\u001b[0m\u001b[0;34m.\u001b[0m\u001b[0mbar\u001b[0m\u001b[0;34m(\u001b[0m\u001b[0mgrowth\u001b[0m\u001b[0;34m.\u001b[0m\u001b[0mindex\u001b[0m\u001b[0;34m,\u001b[0m\u001b[0mgrowth\u001b[0m\u001b[0;34m[\u001b[0m\u001b[0;34m\"Other_Sales\"\u001b[0m\u001b[0;34m]\u001b[0m\u001b[0;34m,\u001b[0m\u001b[0mcolor\u001b[0m \u001b[0;34m=\u001b[0m \u001b[0;34m\"yellow\"\u001b[0m\u001b[0;34m,\u001b[0m\u001b[0mlabel\u001b[0m \u001b[0;34m=\u001b[0m \u001b[0;34m\"Other_Sales\"\u001b[0m\u001b[0;34m)\u001b[0m\u001b[0;34m\u001b[0m\u001b[0;34m\u001b[0m\u001b[0m\n\u001b[1;32m      5\u001b[0m \u001b[0mplt\u001b[0m\u001b[0;34m.\u001b[0m\u001b[0mlegend\u001b[0m\u001b[0;34m(\u001b[0m\u001b[0;34m)\u001b[0m\u001b[0;34m\u001b[0m\u001b[0;34m\u001b[0m\u001b[0m\n",
      "\u001b[0;31mNameError\u001b[0m: name 'growth' is not defined"
     ]
    }
   ],
   "source": [
    "plt.bar(growth.index,growth[\"NA_Sales\"],color = \"orange\",label = \"NA_Sales\")\n",
    "plt.bar(growth.index,growth[\"EU_Sales\"],color = \"red\",label = \"EU_Sales\")\n",
    "plt.bar(growth.index,growth[\"JP_Sales\"],color = \"purple\",label = \"JP_Sales\")\n",
    "plt.bar(growth.index,growth[\"Other_Sales\"],color = \"yellow\",label = \"Other_Sales\")\n",
    "plt.legend()\n",
    "plt.title(\"Growth of game industry\");"
   ]
  },
  {
   "cell_type": "code",
   "execution_count": null,
   "id": "40667280",
   "metadata": {},
   "outputs": [],
   "source": [
    "t1 = game_df[[\"Year\",\"Genre\",\"Global_Sales\"]].groupby([\"Year\",\"Genre\"]).sum().unstack(0).idxmax()\n",
    "t2 = game_df[[\"Year\",\"Genre\",\"Global_Sales\"]].groupby([\"Year\",\"Genre\"]).sum().groupby([\"Year\"]).max()\n",
    "t1.reset_index(level = 0,inplace = True,drop = True)\n",
    "t1.name=\"Genre\"\n",
    "t2.name=\"Sales\"\n",
    "best_genre_overtime = pd.concat([t1, t2], axis=1)\n",
    "best_genre_overtime.head()"
   ]
  },
  {
   "cell_type": "code",
   "execution_count": null,
   "id": "3663825d",
   "metadata": {},
   "outputs": [],
   "source": [
    "b_genres = best_genre_overtime[\"Genre\"].unique()\n",
    "games_db = game_df[[\"Year\",\"Genre\",\"Name\"]].groupby([\"Year\",\"Genre\"]).size().unstack(1).fillna(0)\n",
    "games_db[b_genres].plot(figsize = (15,7))\n",
    "plt.title(\"games debut over time\");"
   ]
  },
  {
   "cell_type": "code",
   "execution_count": null,
   "id": "48067387",
   "metadata": {},
   "outputs": [],
   "source": [
    "games_sale = game_df[[\"Year\",\"Genre\",\"Global_Sales\"]].groupby([\"Year\",\"Genre\"]).sum().unstack(1).fillna(0)\n",
    "games_sale.columns = games_sale.columns.droplevel(0)\n",
    "sns.heatmap(games_sale, annot=True)"
   ]
  },
  {
   "cell_type": "code",
   "execution_count": null,
   "id": "ef7f3c4c",
   "metadata": {},
   "outputs": [],
   "source": [
    "plat_db = game_df[[\"Year\",\"Platform\",\"Name\"]].groupby([\"Year\",\"Platform\"]).size().unstack(1).fillna(0)\n",
    "top_plat = plat_db.sum(axis=0).sort_values(axis=0, ascending=False).head(10).index\n",
    "plat_db[top_plat].plot(figsize = (15,7))\n",
    "plt.title(\"Top 10 popular platform\");"
   ]
  },
  {
   "cell_type": "code",
   "execution_count": null,
   "id": "275d4c91",
   "metadata": {},
   "outputs": [],
   "source": [
    "game_df.head()"
   ]
  },
  {
   "cell_type": "code",
   "execution_count": null,
   "id": "bab71ba7",
   "metadata": {},
   "outputs": [],
   "source": [
    "nintendo = game_df[game_df[\"Publisher\"] == \"Nintendo\"]\n",
    "nintendo = nintendo[[\"Year\",\"Platform\",\"Name\"]].groupby([\"Year\",\"Platform\"]).size().unstack(1).fillna(0)\n",
    "nintendo.plot(figsize = (15,7))\n",
    "plt.title(\"flatform trending of Nintendo\");"
   ]
  }
 ],
 "metadata": {
  "kernelspec": {
   "display_name": "Python 3 (ipykernel)",
   "language": "python",
   "name": "python3"
  },
  "language_info": {
   "codemirror_mode": {
    "name": "ipython",
    "version": 3
   },
   "file_extension": ".py",
   "mimetype": "text/x-python",
   "name": "python",
   "nbconvert_exporter": "python",
   "pygments_lexer": "ipython3",
   "version": "3.8.8"
  }
 },
 "nbformat": 4,
 "nbformat_minor": 5
}
